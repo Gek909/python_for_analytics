{
 "cells": [
  {
   "attachments": {},
   "cell_type": "markdown",
   "metadata": {},
   "source": [
    "## Задание 1\n",
    "На складе лежат разные фрукты в разном количестве.\n",
    "Нужно написать функцию, которая на вход принимает любое количество названий фруктов и их количество, а возвращает общее количество фруктов на складе"
   ]
  },
  {
   "cell_type": "code",
   "execution_count": 1,
   "metadata": {},
   "outputs": [
    {
     "name": "stdout",
     "output_type": "stream",
     "text": [
      "Общее количество фруктов на складе: 135\n"
     ]
    }
   ],
   "source": [
    "fruits = {'apple': 25,\n",
    "        'pineapple': 11,\n",
    "        'strawberry': 51,\n",
    "        'melon': 10,\n",
    "        'blackberry': 34,\n",
    "        'watermelon': 4}\n",
    "\n",
    "def sum_of_fruits(a: dict) -> int:\n",
    "    sum = 0\n",
    "    for key in a:\n",
    "        sum += a[key]\n",
    "    return sum\n",
    "\n",
    "print(f'Общее количество фруктов на складе: {sum_of_fruits(fruits)}')\n",
    "\n"
   ]
  },
  {
   "attachments": {},
   "cell_type": "markdown",
   "metadata": {},
   "source": [
    "## Задание 2\n",
    "Дан список с затратами на рекламу. Но в данных есть ошибки, некоторые затраты имеют отрицательную величину. Удалите такие значения из списка и посчитайте суммарные затраты\n",
    "<br>\n",
    "[100, 125, -90, 345, 655, -1, 0, 200]\n",
    "<br>\n",
    "_Используйте list comprehensions_"
   ]
  },
  {
   "cell_type": "code",
   "execution_count": 2,
   "metadata": {},
   "outputs": [
    {
     "name": "stdout",
     "output_type": "stream",
     "text": [
      "[100, 125, 345, 655, 200]\n",
      "Суммарные затраты на рекламу: 1425\n"
     ]
    }
   ],
   "source": [
    "adv_costs = [100, 125, -90, 345, 655, -1, 0, 200]\n",
    "\n",
    "adv_costs_right = [adv_costs[i] for i in range(len(adv_costs)) if adv_costs[i]>0]\n",
    "print(adv_costs_right)\n",
    "print(f'Суммарные затраты на рекламу: {sum(adv_costs_right)}')"
   ]
  },
  {
   "attachments": {},
   "cell_type": "markdown",
   "metadata": {},
   "source": [
    "## Задание 3\n",
    "Даны два списка:"
   ]
  },
  {
   "cell_type": "code",
   "execution_count": 4,
   "metadata": {},
   "outputs": [],
   "source": [
    "purch_date = ['2021-09-14', '2021-12-15', '2021-09-08', '2021-12-05', '2021-10-09', '2021-09-30', '2021-12-22', '2021-11-29', '2021-12-24', '2021-11-26', '2021-10-27', '2021-12-18', '2021-11-09', '2021-11-23', '2021-09-27', '2021-10-02', '2021-12-27', '2021-09-20', '2021-12-13', '2021-11-01', '2021-11-09', '2021-12-06', '2021-12-08', '2021-10-09', '2021-10-31', '2021-09-30', '2021-11-09', '2021-12-13', '2021-10-26', '2021-12-09']\n",
    "sum_of_purch = [1270, 8413, 9028, 3703, 5739, 4095, 295, 4944, 5723, 3701, 4471, 651, 7037, 4274, 6275, 4988, 6930, 2971, 6592, 2004, 2822, 519, 3406, 2732, 5015, 2008, 316, 6333, 5700, 2887]\n"
   ]
  },
  {
   "attachments": {},
   "cell_type": "markdown",
   "metadata": {},
   "source": [
    "### 3.1 Найдите, какая выручка у компании в ноябре\n",
    "Используйте list comprehensions"
   ]
  },
  {
   "cell_type": "code",
   "execution_count": 6,
   "metadata": {},
   "outputs": [
    {
     "name": "stdout",
     "output_type": "stream",
     "text": [
      "Суммарная выручка в ноябре: 25098\n"
     ]
    }
   ],
   "source": [
    "from datetime import datetime\n",
    "\n",
    "nov_purch = [sum_of_purch[i] for i in range(len(purch_date)) if (datetime.strptime(purch_date[i], \"%Y-%m-%d\")).month == 11]\n",
    "print(f'Суммарная выручка в ноябре: {sum(nov_purch)}')"
   ]
  },
  {
   "attachments": {},
   "cell_type": "markdown",
   "metadata": {},
   "source": [
    "### 3.2 Найдите выручку компании в зависимости от месяца\n",
    "Для этого напишите функцию, которая на вход принимает список с датами и список с выручкой, а на выходе словарь, где ключи - это месяцы, а значения - это выручка.\n",
    "<br>\n",
    "Используйте аннотирование типов."
   ]
  },
  {
   "cell_type": "code",
   "execution_count": 7,
   "metadata": {},
   "outputs": [
    {
     "name": "stdout",
     "output_type": "stream",
     "text": [
      "{'Сентябрь': 25647, 'Октябрь': 28645, 'Ноябрь': 25098, 'Декабрь': 45452}\n"
     ]
    }
   ],
   "source": [
    "def dict_of_month_revenues(a: list, b: list) -> dict:\n",
    "    d = {}\n",
    "    month = ['Январь', 'Февраль', 'Март', 'Апрель', 'Май', 'Июнь', 'Июль', 'Август', 'Сентябрь', 'Октябрь', 'Ноябрь', 'Декабрь']\n",
    "    for m in range(1, 13):\n",
    "        temp = sum([b[i] for i in range(len(a)) if (datetime.strptime(a[i], \"%Y-%m-%d\")).month == m])\n",
    "        if temp > 0: \n",
    "            d[month[m-1]] = temp\n",
    "    return d\n",
    "    \n",
    "new_list = dict_of_month_revenues(purch_date,sum_of_purch)\n",
    "print(new_list)"
   ]
  }
 ],
 "metadata": {
  "kernelspec": {
   "display_name": "Python 3",
   "language": "python",
   "name": "python3"
  },
  "language_info": {
   "codemirror_mode": {
    "name": "ipython",
    "version": 3
   },
   "file_extension": ".py",
   "mimetype": "text/x-python",
   "name": "python",
   "nbconvert_exporter": "python",
   "pygments_lexer": "ipython3",
   "version": "3.11.1"
  },
  "orig_nbformat": 4
 },
 "nbformat": 4,
 "nbformat_minor": 2
}
